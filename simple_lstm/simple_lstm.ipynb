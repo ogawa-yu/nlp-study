{
 "cells": [
  {
   "cell_type": "markdown",
   "metadata": {},
   "source": [
    "# シンプルなLSTMの実装"
   ]
  },
  {
   "cell_type": "code",
   "execution_count": 2,
   "metadata": {},
   "outputs": [
    {
     "data": {
      "image/png": "[encoded data removed]",
      "text/plain": [
       "<Figure size 432x288 with 1 Axes>"
      ]
     },
     "metadata": {},
     "output_type": "display_data"
    },
    {
     "name": "stdout",
     "output_type": "stream",
     "text": [
      "X (40, 10, 1) T (40, 1)\n"
     ]
    }
   ],
   "source": [
    "%matplotlib inline\n",
    "\n",
    "import numpy as np\n",
    "import matplotlib.pyplot as plt\n",
    "\n",
    "PI = np.pi\n",
    "x_data = np.linspace(-2*PI, 2*PI)\n",
    "sin_data = np.sin(x_data) + np.random.randn(len(x_data))\n",
    "\n",
    "plt.plot(x_data, sin_data)\n",
    "plt.show()\n",
    "\n",
    "n_rnn = 10\n",
    "n_sample = len(x_data) - n_rnn\n",
    "x = np.zeros((n_sample, n_rnn))\n",
    "t = np.zeros((n_sample, ))\n",
    "for i in range(0, n_sample):\n",
    "    x[i] = sin_data[i:i+n_rnn]\n",
    "    t[i] = sin_data[i+n_rnn]\n",
    "\n",
    "x = x.reshape(n_sample, n_rnn, 1)\n",
    "t = t.reshape(n_sample, 1)\n",
    "print('X', x.shape, 'T', t.shape)\n"
   ]
  },
  {
   "cell_type": "code",
   "execution_count": 4,
   "metadata": {},
   "outputs": [
    {
     "name": "stdout",
     "output_type": "stream",
     "text": [
      "_________________________________________________________________\n",
      "Layer (type)                 Output Shape              Param #   \n",
      "=================================================================\n",
      "simple_rnn_2 (SimpleRNN)     (None, 20)                440       \n",
      "_________________________________________________________________\n",
      "dense_3 (Dense)              (None, 1)                 21        \n",
      "=================================================================\n",
      "Total params: 461\n",
      "Trainable params: 461\n",
      "Non-trainable params: 0\n",
      "_________________________________________________________________\n",
      "None\n",
      "_________________________________________________________________\n",
      "Layer (type)                 Output Shape              Param #   \n",
      "=================================================================\n",
      "lstm_2 (LSTM)                (None, 20)                1760      \n",
      "_________________________________________________________________\n",
      "dense_4 (Dense)              (None, 1)                 21        \n",
      "=================================================================\n",
      "Total params: 1,781\n",
      "Trainable params: 1,781\n",
      "Non-trainable params: 0\n",
      "_________________________________________________________________\n",
      "None\n"
     ]
    }
   ],
   "source": [
    "from keras.models import Sequential\n",
    "from keras.layers import Dense, SimpleRNN, LSTM\n",
    "\n",
    "batch_size = 8\n",
    "n_in = 1\n",
    "n_hidden = 20\n",
    "n_out = 1\n",
    "\n",
    "model_rnn = Sequential()\n",
    "model_rnn.add(SimpleRNN(n_hidden, input_shape=(n_rnn, n_in), return_sequences=False))\n",
    "model_rnn.add(Dense(n_out, activation='linear'))\n",
    "model_rnn.compile(loss='mean_squared_error', optimizer='sgd')\n",
    "print(model_rnn.summary())\n",
    "\n",
    "model_lstm = Sequential()\n",
    "model_lstm.add(LSTM(n_hidden, input_shape=(n_rnn, n_in), return_sequences=False))\n",
    "model_lstm.add(Dense(n_out, activation='linear'))\n",
    "model_lstm.compile(loss='mean_squared_error', optimizer='sgd')\n",
    "print(model_lstm.summary())\n"
   ]
  },
  {
   "cell_type": "code",
   "execution_count": 5,
   "metadata": {},
   "outputs": [
    {
     "name": "stdout",
     "output_type": "stream",
     "text": [
      "WARNING:tensorflow:From /usr/local/var/pyenv/versions/anaconda3-4.1.1/envs/nlp/lib/python3.6/site-packages/tensorflow/python/ops/math_ops.py:3066: to_int32 (from tensorflow.python.ops.math_ops) is deprecated and will be removed in a future version.\n",
      "Instructions for updating:\n",
      "Use tf.cast instead.\n",
      "[Simple RNN] took time: 3.6181507110595703\n",
      "[Simple LSTM] took time: 11.360135078430176\n"
     ]
    }
   ],
   "source": [
    "import time\n",
    "\n",
    "epochs = 200\n",
    "\n",
    "start = time.time()\n",
    "history_rnn = model_rnn.fit(x, t, epochs=epochs, batch_size=batch_size, verbose=0)\n",
    "print('[Simple RNN] took time:', time.time()-start)\n",
    "\n",
    "\n",
    "start = time.time()\n",
    "history_lstm = model_lstm.fit(x, t, epochs=epochs, batch_size=batch_size, verbose=0)\n",
    "print('[Simple LSTM] took time:', time.time()-start)\n"
   ]
  }
 ],
 "metadata": {
  "kernelspec": {
   "display_name": "Python 3",
   "language": "python",
   "name": "python3"
  },
  "language_info": {
   "codemirror_mode": {
    "name": "ipython",
    "version": 3
   },
   "file_extension": ".py",
   "mimetype": "text/x-python",
   "name": "python",
   "nbconvert_exporter": "python",
   "pygments_lexer": "ipython3",
   "version": "3.6.2"
  }
 },
 "nbformat": 4,
 "nbformat_minor": 2
}
